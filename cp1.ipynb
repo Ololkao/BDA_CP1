{
 "cells": [
  {
   "cell_type": "code",
   "execution_count": 1,
   "metadata": {},
   "outputs": [],
   "source": [
    "import pandas as pd\n",
    "import numpy as np\n",
    "import os\n",
    "from IPython.display import display\n",
    "from sklearn.model_selection import train_test_split\n",
    "from tensorflow.random import set_seed\n",
    "set_seed(42)\n",
    "\n",
    "import missingno as msno\n",
    "%matplotlib inline\n",
    "\n",
    "from sklearn.experimental import enable_iterative_imputer\n",
    "from sklearn.impute import IterativeImputer, KNNImputer\n",
    "from fancyimpute import SoftImpute, IterativeSVD, MatrixFactorization, NuclearNormMinimization, BiScaler, SimilarityWeightedAveraging\n",
    "from sklearn.pipeline import Pipeline\n",
    "\n",
    "from sklearn.ensemble import RandomForestRegressor\n",
    "from lightgbm import LGBMRegressor\n",
    "from xgboost import XGBRegressor, XGBRFRegressor\n",
    "from sklearn.metrics import mean_absolute_error"
   ]
  },
  {
   "cell_type": "code",
   "execution_count": 2,
   "metadata": {},
   "outputs": [],
   "source": [
    "# # By default, a module has some hidden variables defined\n",
    "# print({k: v for k, v in globals().items() if not k.startswith(\"__\")})"
   ]
  },
  {
   "cell_type": "code",
   "execution_count": 3,
   "metadata": {},
   "outputs": [],
   "source": [
    "''' \n",
    "data dim = [8, 8, 13, 8, 4, 11, 6]\n",
    "train size = [765, 574, 371, 6064, 7077, 1187, 231]\n",
    "test size = [309, 230, 151, 2457, 2870, 479, 92]\n",
    "train / test ~= 2.5\n",
    "'''\n",
    "for i in range(1,8,1):\n",
    "    temp0_df = pd.read_csv(f\"data{i}/train.csv\", header=None)\n",
    "    globals()[f'train{i}'] = temp0_df.iloc[:,:-1]\n",
    "    globals()[f'answer{i}'] = temp0_df.iloc[:,-1]\n",
    "    temp1_df = pd.read_csv(f\"data{i}/test.csv\", header=None)\n",
    "    globals()[f'test{i}'] = temp1_df.iloc[:,:-1]"
   ]
  },
  {
   "cell_type": "code",
   "execution_count": 17,
   "metadata": {},
   "outputs": [
    {
     "data": {
      "text/html": [
       "<div>\n",
       "<style scoped>\n",
       "    .dataframe tbody tr th:only-of-type {\n",
       "        vertical-align: middle;\n",
       "    }\n",
       "\n",
       "    .dataframe tbody tr th {\n",
       "        vertical-align: top;\n",
       "    }\n",
       "\n",
       "    .dataframe thead th {\n",
       "        text-align: right;\n",
       "    }\n",
       "</style>\n",
       "<table border=\"1\" class=\"dataframe\">\n",
       "  <thead>\n",
       "    <tr style=\"text-align: right;\">\n",
       "      <th></th>\n",
       "      <th>0</th>\n",
       "      <th>1</th>\n",
       "      <th>2</th>\n",
       "      <th>3</th>\n",
       "      <th>4</th>\n",
       "      <th>5</th>\n",
       "      <th>6</th>\n",
       "      <th>7</th>\n",
       "    </tr>\n",
       "  </thead>\n",
       "  <tbody>\n",
       "    <tr>\n",
       "      <th>0</th>\n",
       "      <td>234</td>\n",
       "      <td>220</td>\n",
       "      <td>218</td>\n",
       "      <td>225</td>\n",
       "      <td>219</td>\n",
       "      <td>239</td>\n",
       "      <td>249</td>\n",
       "      <td>237</td>\n",
       "    </tr>\n",
       "  </tbody>\n",
       "</table>\n",
       "</div>"
      ],
      "text/plain": [
       "     0    1    2    3    4    5    6    7\n",
       "0  234  220  218  225  219  239  249  237"
      ]
     },
     "metadata": {},
     "output_type": "display_data"
    },
    {
     "data": {
      "text/html": [
       "<div>\n",
       "<style scoped>\n",
       "    .dataframe tbody tr th:only-of-type {\n",
       "        vertical-align: middle;\n",
       "    }\n",
       "\n",
       "    .dataframe tbody tr th {\n",
       "        vertical-align: top;\n",
       "    }\n",
       "\n",
       "    .dataframe thead th {\n",
       "        text-align: right;\n",
       "    }\n",
       "</style>\n",
       "<table border=\"1\" class=\"dataframe\">\n",
       "  <thead>\n",
       "    <tr style=\"text-align: right;\">\n",
       "      <th></th>\n",
       "      <th>0</th>\n",
       "      <th>1</th>\n",
       "      <th>2</th>\n",
       "      <th>3</th>\n",
       "      <th>4</th>\n",
       "      <th>5</th>\n",
       "      <th>6</th>\n",
       "      <th>7</th>\n",
       "    </tr>\n",
       "  </thead>\n",
       "  <tbody>\n",
       "    <tr>\n",
       "      <th>0</th>\n",
       "      <td>167</td>\n",
       "      <td>161</td>\n",
       "      <td>195</td>\n",
       "      <td>179</td>\n",
       "      <td>151</td>\n",
       "      <td>163</td>\n",
       "      <td>167</td>\n",
       "      <td>173</td>\n",
       "    </tr>\n",
       "  </tbody>\n",
       "</table>\n",
       "</div>"
      ],
      "text/plain": [
       "     0    1    2    3    4    5    6    7\n",
       "0  167  161  195  179  151  163  167  173"
      ]
     },
     "metadata": {},
     "output_type": "display_data"
    },
    {
     "data": {
      "text/html": [
       "<div>\n",
       "<style scoped>\n",
       "    .dataframe tbody tr th:only-of-type {\n",
       "        vertical-align: middle;\n",
       "    }\n",
       "\n",
       "    .dataframe tbody tr th {\n",
       "        vertical-align: top;\n",
       "    }\n",
       "\n",
       "    .dataframe thead th {\n",
       "        text-align: right;\n",
       "    }\n",
       "</style>\n",
       "<table border=\"1\" class=\"dataframe\">\n",
       "  <thead>\n",
       "    <tr style=\"text-align: right;\">\n",
       "      <th></th>\n",
       "      <th>0</th>\n",
       "      <th>1</th>\n",
       "      <th>2</th>\n",
       "      <th>3</th>\n",
       "      <th>4</th>\n",
       "      <th>5</th>\n",
       "      <th>6</th>\n",
       "      <th>7</th>\n",
       "      <th>8</th>\n",
       "      <th>9</th>\n",
       "      <th>10</th>\n",
       "      <th>11</th>\n",
       "      <th>12</th>\n",
       "    </tr>\n",
       "  </thead>\n",
       "  <tbody>\n",
       "    <tr>\n",
       "      <th>0</th>\n",
       "      <td>110</td>\n",
       "      <td>124</td>\n",
       "      <td>103</td>\n",
       "      <td>103</td>\n",
       "      <td>105</td>\n",
       "      <td>118</td>\n",
       "      <td>124</td>\n",
       "      <td>122</td>\n",
       "      <td>118</td>\n",
       "      <td>105</td>\n",
       "      <td>104</td>\n",
       "      <td>110</td>\n",
       "      <td>102</td>\n",
       "    </tr>\n",
       "  </tbody>\n",
       "</table>\n",
       "</div>"
      ],
      "text/plain": [
       "    0    1    2    3    4    5    6    7    8    9    10   11   12\n",
       "0  110  124  103  103  105  118  124  122  118  105  104  110  102"
      ]
     },
     "metadata": {},
     "output_type": "display_data"
    },
    {
     "data": {
      "text/html": [
       "<div>\n",
       "<style scoped>\n",
       "    .dataframe tbody tr th:only-of-type {\n",
       "        vertical-align: middle;\n",
       "    }\n",
       "\n",
       "    .dataframe tbody tr th {\n",
       "        vertical-align: top;\n",
       "    }\n",
       "\n",
       "    .dataframe thead th {\n",
       "        text-align: right;\n",
       "    }\n",
       "</style>\n",
       "<table border=\"1\" class=\"dataframe\">\n",
       "  <thead>\n",
       "    <tr style=\"text-align: right;\">\n",
       "      <th></th>\n",
       "      <th>0</th>\n",
       "      <th>1</th>\n",
       "      <th>2</th>\n",
       "      <th>3</th>\n",
       "      <th>4</th>\n",
       "      <th>5</th>\n",
       "      <th>6</th>\n",
       "      <th>7</th>\n",
       "    </tr>\n",
       "  </thead>\n",
       "  <tbody>\n",
       "    <tr>\n",
       "      <th>0</th>\n",
       "      <td>1755</td>\n",
       "      <td>1864</td>\n",
       "      <td>1834</td>\n",
       "      <td>1811</td>\n",
       "      <td>1764</td>\n",
       "      <td>1789</td>\n",
       "      <td>1850</td>\n",
       "      <td>1893</td>\n",
       "    </tr>\n",
       "  </tbody>\n",
       "</table>\n",
       "</div>"
      ],
      "text/plain": [
       "      0     1     2     3     4     5     6     7\n",
       "0  1755  1864  1834  1811  1764  1789  1850  1893"
      ]
     },
     "metadata": {},
     "output_type": "display_data"
    },
    {
     "data": {
      "text/html": [
       "<div>\n",
       "<style scoped>\n",
       "    .dataframe tbody tr th:only-of-type {\n",
       "        vertical-align: middle;\n",
       "    }\n",
       "\n",
       "    .dataframe tbody tr th {\n",
       "        vertical-align: top;\n",
       "    }\n",
       "\n",
       "    .dataframe thead th {\n",
       "        text-align: right;\n",
       "    }\n",
       "</style>\n",
       "<table border=\"1\" class=\"dataframe\">\n",
       "  <thead>\n",
       "    <tr style=\"text-align: right;\">\n",
       "      <th></th>\n",
       "      <th>0</th>\n",
       "      <th>1</th>\n",
       "      <th>2</th>\n",
       "      <th>3</th>\n",
       "    </tr>\n",
       "  </thead>\n",
       "  <tbody>\n",
       "    <tr>\n",
       "      <th>0</th>\n",
       "      <td>2132</td>\n",
       "      <td>2149</td>\n",
       "      <td>2089</td>\n",
       "      <td>2114</td>\n",
       "    </tr>\n",
       "  </tbody>\n",
       "</table>\n",
       "</div>"
      ],
      "text/plain": [
       "      0     1     2     3\n",
       "0  2132  2149  2089  2114"
      ]
     },
     "metadata": {},
     "output_type": "display_data"
    },
    {
     "data": {
      "text/html": [
       "<div>\n",
       "<style scoped>\n",
       "    .dataframe tbody tr th:only-of-type {\n",
       "        vertical-align: middle;\n",
       "    }\n",
       "\n",
       "    .dataframe tbody tr th {\n",
       "        vertical-align: top;\n",
       "    }\n",
       "\n",
       "    .dataframe thead th {\n",
       "        text-align: right;\n",
       "    }\n",
       "</style>\n",
       "<table border=\"1\" class=\"dataframe\">\n",
       "  <thead>\n",
       "    <tr style=\"text-align: right;\">\n",
       "      <th></th>\n",
       "      <th>0</th>\n",
       "      <th>1</th>\n",
       "      <th>2</th>\n",
       "      <th>3</th>\n",
       "      <th>4</th>\n",
       "      <th>5</th>\n",
       "      <th>6</th>\n",
       "      <th>7</th>\n",
       "      <th>8</th>\n",
       "      <th>9</th>\n",
       "      <th>10</th>\n",
       "    </tr>\n",
       "  </thead>\n",
       "  <tbody>\n",
       "    <tr>\n",
       "      <th>0</th>\n",
       "      <td>367</td>\n",
       "      <td>395</td>\n",
       "      <td>362</td>\n",
       "      <td>357</td>\n",
       "      <td>351</td>\n",
       "      <td>327</td>\n",
       "      <td>342</td>\n",
       "      <td>367</td>\n",
       "      <td>346</td>\n",
       "      <td>366</td>\n",
       "      <td>321</td>\n",
       "    </tr>\n",
       "  </tbody>\n",
       "</table>\n",
       "</div>"
      ],
      "text/plain": [
       "    0    1    2    3    4    5    6    7    8    9    10\n",
       "0  367  395  362  357  351  327  342  367  346  366  321"
      ]
     },
     "metadata": {},
     "output_type": "display_data"
    },
    {
     "data": {
      "text/html": [
       "<div>\n",
       "<style scoped>\n",
       "    .dataframe tbody tr th:only-of-type {\n",
       "        vertical-align: middle;\n",
       "    }\n",
       "\n",
       "    .dataframe tbody tr th {\n",
       "        vertical-align: top;\n",
       "    }\n",
       "\n",
       "    .dataframe thead th {\n",
       "        text-align: right;\n",
       "    }\n",
       "</style>\n",
       "<table border=\"1\" class=\"dataframe\">\n",
       "  <thead>\n",
       "    <tr style=\"text-align: right;\">\n",
       "      <th></th>\n",
       "      <th>0</th>\n",
       "      <th>1</th>\n",
       "      <th>2</th>\n",
       "      <th>3</th>\n",
       "      <th>4</th>\n",
       "      <th>5</th>\n",
       "    </tr>\n",
       "  </thead>\n",
       "  <tbody>\n",
       "    <tr>\n",
       "      <th>0</th>\n",
       "      <td>68</td>\n",
       "      <td>62</td>\n",
       "      <td>74</td>\n",
       "      <td>63</td>\n",
       "      <td>78</td>\n",
       "      <td>68</td>\n",
       "    </tr>\n",
       "  </tbody>\n",
       "</table>\n",
       "</div>"
      ],
      "text/plain": [
       "    0   1   2   3   4   5\n",
       "0  68  62  74  63  78  68"
      ]
     },
     "metadata": {},
     "output_type": "display_data"
    }
   ],
   "source": [
    "for i in range(1,8,1):\n",
    "    count_null = pd.DataFrame(globals()[f'train{i}'].isnull().sum()).T\n",
    "    display(count_null)"
   ]
  },
  {
   "cell_type": "code",
   "execution_count": 21,
   "metadata": {},
   "outputs": [
    {
     "data": {
      "text/html": [
       "<div>\n",
       "<style scoped>\n",
       "    .dataframe tbody tr th:only-of-type {\n",
       "        vertical-align: middle;\n",
       "    }\n",
       "\n",
       "    .dataframe tbody tr th {\n",
       "        vertical-align: top;\n",
       "    }\n",
       "\n",
       "    .dataframe thead th {\n",
       "        text-align: right;\n",
       "    }\n",
       "</style>\n",
       "<table border=\"1\" class=\"dataframe\">\n",
       "  <thead>\n",
       "    <tr style=\"text-align: right;\">\n",
       "      <th></th>\n",
       "      <th>0</th>\n",
       "      <th>1</th>\n",
       "      <th>2</th>\n",
       "      <th>3</th>\n",
       "      <th>4</th>\n",
       "      <th>5</th>\n",
       "      <th>6</th>\n",
       "      <th>7</th>\n",
       "    </tr>\n",
       "  </thead>\n",
       "  <tbody>\n",
       "    <tr>\n",
       "      <th>nunique</th>\n",
       "      <td>216</td>\n",
       "      <td>141</td>\n",
       "      <td>104</td>\n",
       "      <td>151</td>\n",
       "      <td>89</td>\n",
       "      <td>204</td>\n",
       "      <td>224</td>\n",
       "      <td>14</td>\n",
       "    </tr>\n",
       "  </tbody>\n",
       "</table>\n",
       "</div>"
      ],
      "text/plain": [
       "           0    1    2    3   4    5    6   7\n",
       "nunique  216  141  104  151  89  204  224  14"
      ]
     },
     "metadata": {},
     "output_type": "display_data"
    },
    {
     "data": {
      "text/html": [
       "<div>\n",
       "<style scoped>\n",
       "    .dataframe tbody tr th:only-of-type {\n",
       "        vertical-align: middle;\n",
       "    }\n",
       "\n",
       "    .dataframe tbody tr th {\n",
       "        vertical-align: top;\n",
       "    }\n",
       "\n",
       "    .dataframe thead th {\n",
       "        text-align: right;\n",
       "    }\n",
       "</style>\n",
       "<table border=\"1\" class=\"dataframe\">\n",
       "  <thead>\n",
       "    <tr style=\"text-align: right;\">\n",
       "      <th></th>\n",
       "      <th>0</th>\n",
       "      <th>1</th>\n",
       "      <th>2</th>\n",
       "      <th>3</th>\n",
       "      <th>4</th>\n",
       "      <th>5</th>\n",
       "      <th>6</th>\n",
       "      <th>7</th>\n",
       "    </tr>\n",
       "  </thead>\n",
       "  <tbody>\n",
       "    <tr>\n",
       "      <th>nunique</th>\n",
       "      <td>12</td>\n",
       "      <td>12</td>\n",
       "      <td>7</td>\n",
       "      <td>4</td>\n",
       "      <td>2</td>\n",
       "      <td>4</td>\n",
       "      <td>4</td>\n",
       "      <td>6</td>\n",
       "    </tr>\n",
       "  </tbody>\n",
       "</table>\n",
       "</div>"
      ],
      "text/plain": [
       "          0   1  2  3  4  5  6  7\n",
       "nunique  12  12  7  4  2  4  4  6"
      ]
     },
     "metadata": {},
     "output_type": "display_data"
    },
    {
     "data": {
      "text/html": [
       "<div>\n",
       "<style scoped>\n",
       "    .dataframe tbody tr th:only-of-type {\n",
       "        vertical-align: middle;\n",
       "    }\n",
       "\n",
       "    .dataframe tbody tr th {\n",
       "        vertical-align: top;\n",
       "    }\n",
       "\n",
       "    .dataframe thead th {\n",
       "        text-align: right;\n",
       "    }\n",
       "</style>\n",
       "<table border=\"1\" class=\"dataframe\">\n",
       "  <thead>\n",
       "    <tr style=\"text-align: right;\">\n",
       "      <th></th>\n",
       "      <th>0</th>\n",
       "      <th>1</th>\n",
       "      <th>2</th>\n",
       "      <th>3</th>\n",
       "      <th>4</th>\n",
       "      <th>5</th>\n",
       "      <th>6</th>\n",
       "      <th>7</th>\n",
       "      <th>8</th>\n",
       "      <th>9</th>\n",
       "      <th>10</th>\n",
       "      <th>11</th>\n",
       "      <th>12</th>\n",
       "    </tr>\n",
       "  </thead>\n",
       "  <tbody>\n",
       "    <tr>\n",
       "      <th>nunique</th>\n",
       "      <td>259</td>\n",
       "      <td>23</td>\n",
       "      <td>63</td>\n",
       "      <td>2</td>\n",
       "      <td>74</td>\n",
       "      <td>239</td>\n",
       "      <td>204</td>\n",
       "      <td>226</td>\n",
       "      <td>9</td>\n",
       "      <td>51</td>\n",
       "      <td>40</td>\n",
       "      <td>189</td>\n",
       "      <td>252</td>\n",
       "    </tr>\n",
       "  </tbody>\n",
       "</table>\n",
       "</div>"
      ],
      "text/plain": [
       "          0   1   2   3   4    5    6    7   8   9   10   11   12\n",
       "nunique  259  23  63   2  74  239  204  226   9  51  40  189  252"
      ]
     },
     "metadata": {},
     "output_type": "display_data"
    },
    {
     "data": {
      "text/html": [
       "<div>\n",
       "<style scoped>\n",
       "    .dataframe tbody tr th:only-of-type {\n",
       "        vertical-align: middle;\n",
       "    }\n",
       "\n",
       "    .dataframe tbody tr th {\n",
       "        vertical-align: top;\n",
       "    }\n",
       "\n",
       "    .dataframe thead th {\n",
       "        text-align: right;\n",
       "    }\n",
       "</style>\n",
       "<table border=\"1\" class=\"dataframe\">\n",
       "  <thead>\n",
       "    <tr style=\"text-align: right;\">\n",
       "      <th></th>\n",
       "      <th>0</th>\n",
       "      <th>1</th>\n",
       "      <th>2</th>\n",
       "      <th>3</th>\n",
       "      <th>4</th>\n",
       "      <th>5</th>\n",
       "      <th>6</th>\n",
       "      <th>7</th>\n",
       "    </tr>\n",
       "  </thead>\n",
       "  <tbody>\n",
       "    <tr>\n",
       "      <th>nunique</th>\n",
       "      <td>4013</td>\n",
       "      <td>3960</td>\n",
       "      <td>3962</td>\n",
       "      <td>3982</td>\n",
       "      <td>4010</td>\n",
       "      <td>3999</td>\n",
       "      <td>3958</td>\n",
       "      <td>3900</td>\n",
       "    </tr>\n",
       "  </tbody>\n",
       "</table>\n",
       "</div>"
      ],
      "text/plain": [
       "            0     1     2     3     4     5     6     7\n",
       "nunique  4013  3960  3962  3982  4010  3999  3958  3900"
      ]
     },
     "metadata": {},
     "output_type": "display_data"
    },
    {
     "data": {
      "text/html": [
       "<div>\n",
       "<style scoped>\n",
       "    .dataframe tbody tr th:only-of-type {\n",
       "        vertical-align: middle;\n",
       "    }\n",
       "\n",
       "    .dataframe tbody tr th {\n",
       "        vertical-align: top;\n",
       "    }\n",
       "\n",
       "    .dataframe thead th {\n",
       "        text-align: right;\n",
       "    }\n",
       "</style>\n",
       "<table border=\"1\" class=\"dataframe\">\n",
       "  <thead>\n",
       "    <tr style=\"text-align: right;\">\n",
       "      <th></th>\n",
       "      <th>0</th>\n",
       "      <th>1</th>\n",
       "      <th>2</th>\n",
       "      <th>3</th>\n",
       "    </tr>\n",
       "  </thead>\n",
       "  <tbody>\n",
       "    <tr>\n",
       "      <th>nunique</th>\n",
       "      <td>2302</td>\n",
       "      <td>611</td>\n",
       "      <td>2053</td>\n",
       "      <td>3241</td>\n",
       "    </tr>\n",
       "  </tbody>\n",
       "</table>\n",
       "</div>"
      ],
      "text/plain": [
       "            0    1     2     3\n",
       "nunique  2302  611  2053  3241"
      ]
     },
     "metadata": {},
     "output_type": "display_data"
    },
    {
     "data": {
      "text/html": [
       "<div>\n",
       "<style scoped>\n",
       "    .dataframe tbody tr th:only-of-type {\n",
       "        vertical-align: middle;\n",
       "    }\n",
       "\n",
       "    .dataframe tbody tr th {\n",
       "        vertical-align: top;\n",
       "    }\n",
       "\n",
       "    .dataframe thead th {\n",
       "        text-align: right;\n",
       "    }\n",
       "</style>\n",
       "<table border=\"1\" class=\"dataframe\">\n",
       "  <thead>\n",
       "    <tr style=\"text-align: right;\">\n",
       "      <th></th>\n",
       "      <th>0</th>\n",
       "      <th>1</th>\n",
       "      <th>2</th>\n",
       "      <th>3</th>\n",
       "      <th>4</th>\n",
       "      <th>5</th>\n",
       "      <th>6</th>\n",
       "      <th>7</th>\n",
       "      <th>8</th>\n",
       "      <th>9</th>\n",
       "      <th>10</th>\n",
       "    </tr>\n",
       "  </thead>\n",
       "  <tbody>\n",
       "    <tr>\n",
       "      <th>nunique</th>\n",
       "      <td>90</td>\n",
       "      <td>127</td>\n",
       "      <td>78</td>\n",
       "      <td>76</td>\n",
       "      <td>121</td>\n",
       "      <td>52</td>\n",
       "      <td>131</td>\n",
       "      <td>98</td>\n",
       "      <td>82</td>\n",
       "      <td>81</td>\n",
       "      <td>55</td>\n",
       "    </tr>\n",
       "  </tbody>\n",
       "</table>\n",
       "</div>"
      ],
      "text/plain": [
       "         0    1   2   3    4   5    6   7   8   9   10\n",
       "nunique  90  127  78  76  121  52  131  98  82  81  55"
      ]
     },
     "metadata": {},
     "output_type": "display_data"
    },
    {
     "data": {
      "text/html": [
       "<div>\n",
       "<style scoped>\n",
       "    .dataframe tbody tr th:only-of-type {\n",
       "        vertical-align: middle;\n",
       "    }\n",
       "\n",
       "    .dataframe tbody tr th {\n",
       "        vertical-align: top;\n",
       "    }\n",
       "\n",
       "    .dataframe thead th {\n",
       "        text-align: right;\n",
       "    }\n",
       "</style>\n",
       "<table border=\"1\" class=\"dataframe\">\n",
       "  <thead>\n",
       "    <tr style=\"text-align: right;\">\n",
       "      <th></th>\n",
       "      <th>0</th>\n",
       "      <th>1</th>\n",
       "      <th>2</th>\n",
       "      <th>3</th>\n",
       "      <th>4</th>\n",
       "      <th>5</th>\n",
       "    </tr>\n",
       "  </thead>\n",
       "  <tbody>\n",
       "    <tr>\n",
       "      <th>nunique</th>\n",
       "      <td>5</td>\n",
       "      <td>10</td>\n",
       "      <td>8</td>\n",
       "      <td>17</td>\n",
       "      <td>10</td>\n",
       "      <td>14</td>\n",
       "    </tr>\n",
       "  </tbody>\n",
       "</table>\n",
       "</div>"
      ],
      "text/plain": [
       "         0   1  2   3   4   5\n",
       "nunique  5  10  8  17  10  14"
      ]
     },
     "metadata": {},
     "output_type": "display_data"
    }
   ],
   "source": [
    "for i in range(1,8,1):\n",
    "    count_unique = pd.DataFrame(globals()[f'train{i}'])\n",
    "    display(count_unique.agg(['nunique']))"
   ]
  },
  {
   "cell_type": "code",
   "execution_count": 5,
   "metadata": {},
   "outputs": [],
   "source": [
    "def make_upload(imputer, model = LGBMRegressor(random_state=42), scaler = None, status = False, test_size = 0.15, seed = 42):\n",
    "    tp_mean = 0.0\n",
    "    for i in range(1,8,1):\n",
    "        np_train, np_answer = np.array(globals()[f'train{i}']), np.array(globals()[f'answer{i}'])\n",
    "        X_train, X_valid, y_train, y_valid = train_test_split(np_train, np_answer, test_size=test_size, random_state=seed)\n",
    "        if scaler is True:\n",
    "            X_train = scaler.fit_transform(X_train)\n",
    "            X_valid = scaler.fit_transform(X_valid)\n",
    "\n",
    "        ft_train = imputer.fit_transform(X_train)\n",
    "        if \"fancyimpute\" in imputer.__module__:\n",
    "            ft_valid = imputer.fit_transform(X_valid)\n",
    "        else: ft_valid = imputer.transform(X_valid)\n",
    "\n",
    "        model.fit(ft_train, y_train)\n",
    "        output = model.predict(ft_valid)\n",
    "        mae = mean_absolute_error(y_valid, output)\n",
    "        tp_mean += mae\n",
    "        print(mae, ft_valid.shape, end=' ')\n",
    "\n",
    "        if status is True:\n",
    "            X_test = globals()[f'test{i}']\n",
    "            if scaler is True: scaler.fit_transform(X_test)\n",
    "            if \"fancyimpute\" in imputer.__module__:\n",
    "                ft_test = imputer.fit_transform(X_test)\n",
    "            else: ft_test = imputer.transform(X_test)\n",
    "            print(ft_test.shape, end='')\n",
    "            predict = model.predict(ft_test)\n",
    "            upload_array = np.concatenate((ft_test, predict[:, np.newaxis]), axis=1)\n",
    "            upload = pd.DataFrame(upload_array)\n",
    "            upload.to_csv(f'upload/{str(imputer)[:3]}_{str(model)[:4]}_upload{i}.csv', header=None, index=None, sep=',', mode='w')\n",
    "        print()\n",
    "    print(\"TP_mean in valid set = {}\".format(tp_mean))"
   ]
  },
  {
   "cell_type": "code",
   "execution_count": 59,
   "metadata": {},
   "outputs": [
    {
     "name": "stdout",
     "output_type": "stream",
     "text": [
      "8.105156441348806 (115, 8) \n",
      "2.1523932999874105 (87, 8) \n",
      "3.1572365896204713 (56, 13) \n",
      "0.17042330951206006 (910, 8) \n",
      "5.065000907165189 (1062, 4) \n",
      "0.5045179238899965 (179, 11) \n",
      "9.575812334679462 (35, 6) \n",
      "TP_mean in valid set = 28.730540806203393\n"
     ]
    }
   ],
   "source": [
    "make_upload(KNNImputer(weights=\"distance\"), LGBMRegressor(random_state=42), status = False)"
   ]
  },
  {
   "cell_type": "code",
   "execution_count": 17,
   "metadata": {},
   "outputs": [
    {
     "name": "stdout",
     "output_type": "stream",
     "text": [
      "9.007934660291552 (115, 8) \n",
      "2.563748448025553 (87, 8) \n",
      "3.794182009673096 (56, 13) \n",
      "0.1622370950845623 (910, 8) \n",
      "4.619672741376433 (1062, 4) \n",
      "0.4897435537636039 (179, 11) \n",
      "9.299635389313757 (35, 6) \n",
      "TP_mean in valid set = 29.937153897528553\n"
     ]
    }
   ],
   "source": [
    "make_upload(SoftImpute(None, 1e-5, 10000, max_rank=10, init_fill_method='zero', verbose=False), \\\n",
    "    scaler=BiScaler(scale_rows=False, scale_columns=False, verbose=False))"
   ]
  },
  {
   "cell_type": "code",
   "execution_count": 12,
   "metadata": {},
   "outputs": [
    {
     "name": "stdout",
     "output_type": "stream",
     "text": [
      "9.032761549110756 (115, 8) (309, 8)\n",
      "2.9157460398919475 (87, 8) (230, 8)\n",
      "3.631553466895625 (56, 13) (151, 13)\n",
      "0.1651152089201669 (910, 8) (2457, 8)\n",
      "4.724872639144784 (1062, 4) (2870, 4)\n",
      "0.505432653187008 (179, 11) (479, 11)\n",
      "7.485568667825707 (35, 6) (92, 6)\n",
      "TP_mean in valid set = 28.461050224975992\n"
     ]
    }
   ],
   "source": [
    "make_upload(MatrixFactorization(learning_rate=1e-4, patience=20, verbose=False), status=True)"
   ]
  },
  {
   "cell_type": "code",
   "execution_count": null,
   "metadata": {},
   "outputs": [],
   "source": []
  },
  {
   "cell_type": "code",
   "execution_count": null,
   "metadata": {},
   "outputs": [],
   "source": []
  },
  {
   "cell_type": "code",
   "execution_count": 23,
   "metadata": {},
   "outputs": [],
   "source": [
    "# Convert to .txt file\n",
    "for i in range(1,8,1):\n",
    "    PATH = \"GRAPE/uci/raw_data\"\n",
    "    os.makedirs(f'{PATH}/data{i}/data', exist_ok=True)\n",
    "    data = globals()[f'train{i}'].copy()\n",
    "    data.fillna(value = 0, inplace=True)\n",
    "    data.to_csv(f'{PATH}/data{i}/data/data.txt', header=None, index=None, sep=' ', mode='a')"
   ]
  },
  {
   "cell_type": "code",
   "execution_count": null,
   "metadata": {},
   "outputs": [],
   "source": [
    "'''\n",
    "opt : adam, sgd, rmsprop, adagrad; opt_scheduler : step, cos\n",
    "'''\n",
    "!python GRAPE/train_mdi.py --epochs 200 --opt_scheduler cos --opt_decay_step 50 --opt_decay_rate 0.9 --weight_decay 1e-5 \\\n",
    " --valid 0.1 --save_model --save_prediction uci --data data1"
   ]
  },
  {
   "cell_type": "code",
   "execution_count": null,
   "metadata": {},
   "outputs": [],
   "source": [
    "!python GRAPE/train_y.py --epochs 200 --opt_scheduler cos --opt_decay_step 50 --opt_decay_rate 0.9 --weight_decay 1e-5 \\\n",
    "--valid 0.1 uci --data data1"
   ]
  },
  {
   "cell_type": "code",
   "execution_count": 27,
   "metadata": {},
   "outputs": [
    {
     "name": "stdout",
     "output_type": "stream",
     "text": [
      "\n",
      "outputs:  {'best_valid_rmse_pred_test': array([0.23472586, 0.3429135 , 0.49465045, ..., 0.48028755, 0.48039582,\n",
      "       0.4804244 ], dtype=float32), 'best_valid_l1_pred_test': array([0.08135975, 0.3113982 , 0.68225396, ..., 0.58054477, 0.6309263 ,\n",
      "       0.6309227 ], dtype=float32), 'final_pred_train': array([0.17951287, 0.0942234 , 0.3507589 , ..., 0.28867045, 0.20371333,\n",
      "       0.6800189 ], dtype=float32), 'label_train': array([0.        , 0.        , 0.        , ..., 0.39130434, 0.        ,\n",
      "       0.7671771 ], dtype=float32), 'final_pred_test': array([0.07680242, 0.29278088, 0.6853763 , ..., 0.5381242 , 0.627933  ,\n",
      "       0.6432092 ], dtype=float32), 'label_test': array([0.       , 0.       , 0.       , ..., 0.7877193, 0.8798246,\n",
      "       0.7650443], dtype=float32)}\n"
     ]
    }
   ],
   "source": [
    "# 檢視 Feature imputation 訓練數據\n",
    "import pickle\n",
    "fr = open('uci/test/data1/0/result.pkl', 'rb')\n",
    "df = pickle.load(fr)\n",
    "\n",
    "# print('Items of result.pkl: ', df.keys())\n",
    "# print('\\nargs: ', df['args'])\n",
    "print('\\noutputs: ', df['outputs'])\n",
    "# print('\\ncurves: ', df['curves'])\n",
    "# print('\\nlr: ', df['lr'])"
   ]
  },
  {
   "cell_type": "code",
   "execution_count": 36,
   "metadata": {},
   "outputs": [
    {
     "name": "stdout",
     "output_type": "stream",
     "text": [
      "dict_keys(['best_valid_rmse_pred_test', 'best_valid_l1_pred_test', 'final_pred_train', 'label_train', 'final_pred_test', 'label_test'])\n",
      "(1547,) (1547,) (3396,) (3396,) (1547,) (1547,) "
     ]
    }
   ],
   "source": [
    "print(df['outputs'].keys())\n",
    "for key in df['outputs'].keys():\n",
    "    print(\"{} \".format(df['outputs'][key].shape), end='')"
   ]
  },
  {
   "cell_type": "code",
   "execution_count": null,
   "metadata": {},
   "outputs": [],
   "source": [
    "# 檢視 Label prediction 訓練數據\n",
    "fr = open('uci/test/data1/y0/result.pkl', 'rb')\n",
    "df = pickle.load(fr)\n",
    "\n",
    "# print('Items of result.pkl: ', df.keys())\n",
    "# print('\\nargs: ', df['args'])\n",
    "print('\\noutputs: ', df['outputs'])\n",
    "# print('\\ncurves: ', df['curves'])\n",
    "# print('\\nlr: ', df['lr'])"
   ]
  },
  {
   "cell_type": "code",
   "execution_count": 38,
   "metadata": {},
   "outputs": [
    {
     "name": "stdout",
     "output_type": "stream",
     "text": [
      "dict_keys(['pred_train', 'label_train', 'pred_test', 'label_test'])\n",
      "(454,) (454,) (242,) (242,) "
     ]
    }
   ],
   "source": [
    "print(df['outputs'].keys())\n",
    "for key in df['outputs'].keys():\n",
    "    print(\"{} \".format(df['outputs'][key].shape), end='')"
   ]
  },
  {
   "cell_type": "code",
   "execution_count": null,
   "metadata": {},
   "outputs": [],
   "source": []
  }
 ],
 "metadata": {
  "interpreter": {
   "hash": "f41cc38e4d1ce10e2d58cde3cae4fd6d086592b59013f128bd8472273181c606"
  },
  "kernelspec": {
   "display_name": "Python 3.8.3 64-bit ('base': conda)",
   "name": "python3"
  },
  "language_info": {
   "codemirror_mode": {
    "name": "ipython",
    "version": 3
   },
   "file_extension": ".py",
   "mimetype": "text/x-python",
   "name": "python",
   "nbconvert_exporter": "python",
   "pygments_lexer": "ipython3",
   "version": "3.8.3"
  },
  "orig_nbformat": 4
 },
 "nbformat": 4,
 "nbformat_minor": 2
}
